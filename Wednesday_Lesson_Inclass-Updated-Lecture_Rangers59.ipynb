{
 "cells": [
  {
   "cell_type": "markdown",
   "metadata": {},
   "source": [
    "# Data Collections 2 (Dictionaries, Sets) and Importing Modules"
   ]
  },
  {
   "cell_type": "markdown",
   "metadata": {},
   "source": [
    "## Tasks Today:\n",
    "\n",
    "1) Dictionary <br>\n",
    " &nbsp;&nbsp;&nbsp;&nbsp; a) Declaring (key, value) <br>\n",
    " &nbsp;&nbsp;&nbsp;&nbsp; b) Accessing Values <br>\n",
    " &nbsp;&nbsp;&nbsp;&nbsp; ------ Exercise #1 - Print the eye color of each person in a double nested dict <br>\n",
    " &nbsp;&nbsp;&nbsp;&nbsp; c) Adding New Pairs <br>\n",
    " &nbsp;&nbsp;&nbsp;&nbsp; d) Modifying Values <br>\n",
    " &nbsp;&nbsp;&nbsp;&nbsp; e) Removing Key, Value Pairs <br>\n",
    " &nbsp;&nbsp;&nbsp;&nbsp; f) Looping a Dictionary <br>\n",
    " &nbsp;&nbsp;&nbsp;&nbsp; g) Looping Only Keys <br>\n",
    " &nbsp;&nbsp;&nbsp;&nbsp; h) Looping Only Values <br>\n",
    " &nbsp;&nbsp;&nbsp;&nbsp; ------ Exercise #2 - Create a Function that Prints All Key Value Pairs within a print .format()  <br>\n",
    " &nbsp;&nbsp;&nbsp;&nbsp; i) sorted() <br>\n",
    " &nbsp;&nbsp;&nbsp;&nbsp; j) Lists with Dictionaries <br>\n",
    " &nbsp;&nbsp;&nbsp;&nbsp; k) Dictionaries with Lists <br>\n",
    " &nbsp;&nbsp;&nbsp;&nbsp; l) Dictionaries with Dictionaries <br>\n",
    " &nbsp;&nbsp;&nbsp;&nbsp; ------ Exercise #3 - Write a Function that asks someone's name and address, and then stores that into a dictionary, which prints all names and addresses after they're done putting information in...  <br>\n",
    "2) Dictionaries vs. Lists (over time)<br>\n",
    "3) Set <br>\n",
    " &nbsp;&nbsp;&nbsp;&nbsp; a) Declaring <br>\n",
    " &nbsp;&nbsp;&nbsp;&nbsp; b) .add() <br>\n",
    " &nbsp;&nbsp;&nbsp;&nbsp; c) .remove() <br>\n",
    " &nbsp;&nbsp;&nbsp;&nbsp; d) .union() <br>\n",
    " &nbsp;&nbsp;&nbsp;&nbsp; e) .intersection() <br>\n",
    " &nbsp;&nbsp;&nbsp;&nbsp; f) .difference() <br>\n",
    " &nbsp;&nbsp;&nbsp;&nbsp; g) Frozen Set <br>\n",
    "4) Modules <br>\n",
    " &nbsp;&nbsp;&nbsp;&nbsp; a) Importing Entire Modules <br>\n",
    " &nbsp;&nbsp;&nbsp;&nbsp; b) Importing Methods Only <br>\n",
    " &nbsp;&nbsp;&nbsp;&nbsp; c) Using the 'as' Keyword <br>\n",
    " &nbsp;&nbsp;&nbsp;&nbsp; d) Creating a Module <br>\n",
    "5) Exercises <br>\n",
    " &nbsp;&nbsp;&nbsp;&nbsp; a) Build a Shopping Cart <br>\n",
    " &nbsp;&nbsp;&nbsp;&nbsp; b) Create Your Own Module <br>"
   ]
  },
  {
   "cell_type": "markdown",
   "metadata": {},
   "source": [
    "## Dictionary <br>\n",
    "<p>A collection of data with 'key:value' pairs. Dictionaries are ordered as of Python 3.6</p>"
   ]
  },
  {
   "cell_type": "markdown",
   "metadata": {},
   "source": [
    "##### Declaring (key, value)"
   ]
  },
  {
   "cell_type": "code",
   "execution_count": null,
   "metadata": {},
   "outputs": [],
   "source": []
  },
  {
   "cell_type": "markdown",
   "metadata": {},
   "source": [
    "##### Accessing Values"
   ]
  },
  {
   "cell_type": "code",
   "execution_count": null,
   "metadata": {},
   "outputs": [],
   "source": []
  },
  {
   "cell_type": "markdown",
   "metadata": {},
   "source": [
    "## In-Class Exercise #1 - Print a formatted statement from the dictionary below <br>\n",
    "<p>The output should be '2018 Chevrolet Silverado'</p>"
   ]
  },
  {
   "cell_type": "code",
   "execution_count": null,
   "metadata": {},
   "outputs": [],
   "source": [
    "# use the dict below\n",
    "truck = {\n",
    "    'year': 2018,\n",
    "    'make': 'Chevrolet',\n",
    "    'model': 'Silverado'\n",
    "}\n",
    "\n",
    "#Easy Way\n",
    "print(truck['year'], truck['make'], truck['model'])\n",
    "\n",
    "# print(truck.values())\n",
    "\n",
    "#For Loop\n",
    "for value in truck.values():\n",
    "    print(value, end=\" \")"
   ]
  },
  {
   "cell_type": "code",
   "execution_count": null,
   "metadata": {},
   "outputs": [],
   "source": [
    "my_car_dict = {\n",
    "    'make': 'honda',\n",
    "    'model': 'fit',\n",
    "    'color': 'white',\n",
    "    'year': 2006\n",
    "}"
   ]
  },
  {
   "cell_type": "markdown",
   "metadata": {},
   "source": [
    "##### Adding New Pairs"
   ]
  },
  {
   "cell_type": "code",
   "execution_count": null,
   "metadata": {},
   "outputs": [],
   "source": [
    "truck['color'] = 'blue'"
   ]
  },
  {
   "cell_type": "markdown",
   "metadata": {},
   "source": [
    "##### Modifying Values"
   ]
  },
  {
   "cell_type": "code",
   "execution_count": null,
   "metadata": {},
   "outputs": [],
   "source": [
    "truck['color'] = 'yellow'\n",
    "print(truck)"
   ]
  },
  {
   "cell_type": "markdown",
   "metadata": {},
   "source": [
    "##### Removing Key, Value Pairs"
   ]
  },
  {
   "cell_type": "code",
   "execution_count": null,
   "metadata": {},
   "outputs": [],
   "source": [
    "del truck['color']\n",
    "print(truck)"
   ]
  },
  {
   "cell_type": "code",
   "execution_count": null,
   "metadata": {},
   "outputs": [],
   "source": [
    "truck.pop('year')"
   ]
  },
  {
   "cell_type": "markdown",
   "metadata": {},
   "source": [
    "##### Looping a Dictionary"
   ]
  },
  {
   "cell_type": "code",
   "execution_count": null,
   "metadata": {},
   "outputs": [],
   "source": [
    "# .items()\n",
    "# a, b, c = 1, 2, 3\n",
    "# print(a)\n",
    "# print(b)\n",
    "# print(c)\n",
    "\n"
   ]
  },
  {
   "cell_type": "markdown",
   "metadata": {},
   "source": [
    "##### Looping Only Keys"
   ]
  },
  {
   "cell_type": "code",
   "execution_count": null,
   "metadata": {},
   "outputs": [],
   "source": [
    "# .keys()\n",
    "\n"
   ]
  },
  {
   "cell_type": "markdown",
   "metadata": {},
   "source": [
    "##### Looping Only Values"
   ]
  },
  {
   "cell_type": "code",
   "execution_count": null,
   "metadata": {},
   "outputs": [],
   "source": [
    "# .values()\n",
    "\n"
   ]
  },
  {
   "cell_type": "markdown",
   "metadata": {},
   "source": [
    "## In-Class Exercise #2 - Create a Function that Prints All Key Value Pairs within a print .format() <br>\n",
    "<p><b>Output should be:</b><br>\n",
    "Max has blue eyes<br>\n",
    "Lilly has brown eyes<br>\n",
    "Barney has blue eyes<br>\n",
    "etc.\n",
    "</p>"
   ]
  },
  {
   "cell_type": "code",
   "execution_count": null,
   "metadata": {},
   "outputs": [],
   "source": [
    "# use the dict below\n",
    "\n",
    "people = {\n",
    "    'Max': 'blue',\n",
    "    'Lilly': 'brown',\n",
    "    'Barney': 'blue',\n",
    "    'Larney': 'brown',\n",
    "    'Ted': 'purple'\n",
    "}\n",
    "\n",
    "def print_all(dict_people):\n",
    "    # looping through the dictionary items, with key & value tuples\n",
    "    for key, value in dict_people.items():\n",
    "        # prints key and value using .format()\n",
    "        print(\"{name} has {color} eyes\".format(name = key, color = value))\n",
    "\n",
    "print_all(people)"
   ]
  },
  {
   "cell_type": "markdown",
   "metadata": {},
   "source": [
    "##### sorted()\n",
    "\n",
    "Return a sorted list"
   ]
  },
  {
   "cell_type": "code",
   "execution_count": null,
   "metadata": {},
   "outputs": [],
   "source": [
    "# sorts variables in order\n",
    "# sorted(dict.values()) or dict.keys() or dict.items()\n",
    "\n",
    "# return a list of dictionary's sorted keys\n",
    "print(sorted(people))"
   ]
  },
  {
   "cell_type": "code",
   "execution_count": null,
   "metadata": {},
   "outputs": [],
   "source": [
    "sorted_eye_colors = sorted(people.values())\n",
    "print(sorted_eye_colors)"
   ]
  },
  {
   "cell_type": "code",
   "execution_count": null,
   "metadata": {},
   "outputs": [],
   "source": [
    "print(sorted(people.items()))"
   ]
  },
  {
   "cell_type": "markdown",
   "metadata": {},
   "source": [
    "##### List with Dictionaries"
   ]
  },
  {
   "cell_type": "code",
   "execution_count": null,
   "metadata": {},
   "outputs": [],
   "source": [
    "rockstars = [\n",
    "    {\n",
    "        'name': 'Jimi',\n",
    "        'age': 32,\n",
    "        'instruments': ['guitar', 'keyboard', 'drums']\n",
    "    },\n",
    "    {\n",
    "        'name': 'Sean',\n",
    "        'age': 25,\n",
    "        'instruments': ['bass', 'saxophone']\n",
    "    },\n",
    "    {\n",
    "        'name': 'Bob',\n",
    "        'age': 45,\n",
    "        'instruments': ['harmonica', 'vocals', 'guitar']\n",
    "    }\n",
    "]\n",
    "\n",
    "print([f\"{rockstar['name']}'s age is {rockstar['age']}\" for rockstar in rockstars])"
   ]
  },
  {
   "cell_type": "markdown",
   "metadata": {},
   "source": [
    "##### Dictionaries with Lists"
   ]
  },
  {
   "cell_type": "code",
   "execution_count": null,
   "metadata": {},
   "outputs": [],
   "source": [
    "# be careful when using numbers as keys in dictionaries, don't confuse them with indexes\n",
    "\n",
    "rockstar = {\n",
    "    'name': 'Jimi',\n",
    "    'age': 32,\n",
    "    'instruments': ['guitar', 'keyboard', 'drums']\n",
    "}\n",
    "rockstar['instruments'][1]"
   ]
  },
  {
   "cell_type": "markdown",
   "metadata": {},
   "source": [
    "##### Dictionaries with Dictionaries"
   ]
  },
  {
   "cell_type": "code",
   "execution_count": null,
   "metadata": {},
   "outputs": [],
   "source": [
    "# to get values, must traverse through keys\n",
    "\n",
    "shopping_cart = {\n",
    "    'bread': {\n",
    "        'quantity': 2,\n",
    "        'price': 4\n",
    "    },\n",
    "    'milk': {\n",
    "        'quantity': 3,\n",
    "        'price': 6\n",
    "    },\n",
    "    'chicken': {\n",
    "        'quantity': 2,\n",
    "        'price': 8\n",
    "    },\n",
    "    'banana': {\n",
    "        'quantity': 5,\n",
    "        'price': 5\n",
    "    }\n",
    "}\n",
    "\n",
    "f\"{list(shopping_cart.keys())[2].title()} is priced at ${shopping_cart['chicken']['price']}.00\""
   ]
  },
  {
   "cell_type": "markdown",
   "metadata": {},
   "source": [
    "## Dictionaries vs. Lists (over time) Example of RUNTIME\n",
    "### When inputting values in a Dictionary vs List"
   ]
  },
  {
   "cell_type": "code",
   "execution_count": null,
   "metadata": {},
   "outputs": [],
   "source": [
    "import time\n",
    "\n",
    "\n",
    "# generate fake dictionary\n",
    "d = {}\n",
    "\n",
    "for i in range(10000000):\n",
    "    d[i] = 'value'\n",
    "    \n",
    "\n",
    "# generate fake list\n",
    "big_list = [x for x in range(10000000)]"
   ]
  },
  {
   "cell_type": "code",
   "execution_count": null,
   "metadata": {},
   "outputs": [],
   "source": [
    "# tracking time for dictionary\n",
    "start_time = time.time()\n",
    "\n",
    "print(d[9999999])\n",
    "\n",
    "end_time = time.time() - start_time\n",
    "\n",
    "print('Elapsed time for dictionary: {}'.format(end_time))\n",
    "\n",
    "\n",
    "# tracking time for list\n",
    "start_time = time.time()\n",
    "\n",
    "for i in range(len(big_list)):\n",
    "    if i == 9999999:\n",
    "        print(i)\n",
    "\n",
    "end_time = time.time() - start_time\n",
    "\n",
    "print('Elapsed time for list: {}'.format(end_time))"
   ]
  },
  {
   "cell_type": "markdown",
   "metadata": {},
   "source": [
    "## Exercise #3 - Write a Function that asks someone's name and address, and then stores that into a dictionary, and continues to do so until they choose to 'quit'. Once they quit, the program should print all names and addresses. <br>\n",
    "<p>\n",
    "<b>Proper steps:</b><br>\n",
    "step 1: write a function that takes in information and stores it in a dictionary<br>\n",
    "step 2: define an empty dictionary to work with<br>\n",
    "step 3: create our loop, which asks the user for information until they quit<br>\n",
    "step 4: ask for the information, and store it into variables<br>\n",
    "step 5: check if the user types quit<br>\n",
    "step 5a: print out all information<br>\n",
    "step 5b: break out of the loop<br>\n",
    "step 6: if they didn't quit, add the information to the dictionary<br>\n",
    "step 7: invoke the function by calling it\n",
    "</p>"
   ]
  },
  {
   "cell_type": "code",
   "execution_count": null,
   "metadata": {},
   "outputs": [],
   "source": [
    "from IPython.display import clear_output\n",
    "\n",
    "def name_address():\n",
    "    final_dict = {\n",
    "        'name': [],\n",
    "        'address': []\n",
    "    }\n",
    "      \n",
    "    while True:\n",
    "        name = input(\"Name: \")\n",
    "        address = input(\"Address: \")\n",
    "        \n",
    "        final_dict['name'].append(name)\n",
    "        final_dict['address'].append(address)\n",
    "        \n",
    "        quit = input(\"Quit? \")\n",
    "        if quit.lower() == 'q' or quit.lower() == 'quit':\n",
    "            break\n",
    "            \n",
    "    return final_dict\n",
    "    \n",
    "print(name_address())\n",
    "    \n",
    "#    final_dict['name'] = <value of name>\n",
    "#    final_dict['address'] = <value of address>"
   ]
  },
  {
   "cell_type": "markdown",
   "metadata": {},
   "source": [
    "### Another Way"
   ]
  },
  {
   "cell_type": "code",
   "execution_count": null,
   "metadata": {},
   "outputs": [],
   "source": [
    "final_dict = {\n",
    "    'name': ['Gian', 'Alec', 'Vinh'],\n",
    "    'address': ['New York', 'Chicago', 'San Antonio']\n",
    "}\n",
    "\n",
    "final_dict = [\n",
    "    {\n",
    "        'name': 'Gian',\n",
    "        'address': 'New York'\n",
    "    },\n",
    "    {\n",
    "        'name': 'Alec',\n",
    "        'address': 'California'\n",
    "    },\n",
    "    {\n",
    "        'name': 'Vinh',\n",
    "        'address': 'Texas'\n",
    "    }\n",
    "]"
   ]
  },
  {
   "cell_type": "code",
   "execution_count": null,
   "metadata": {},
   "outputs": [],
   "source": [
    "from IPython.display import clear_output\n",
    "\n",
    "contacts = {}\n",
    "\n",
    "def add_info(info_name, info_address):\n",
    "    contacts[info_name] = {}\n",
    "    contacts[info_name]['name'] = info_name\n",
    "    contacts[info_name]['address'] = info_address\n",
    "\n",
    "while True:\n",
    "    input_name = input(\"Name: \")\n",
    "    input_address = input(\"Address: \")\n",
    "\n",
    "    add_info(input_name, input_address)\n",
    "    \n",
    "    quit = input(\"Quit? \")\n",
    "    if quit.lower() == 'q' or quit.lower() == 'quit':\n",
    "        break\n",
    "        \n",
    "print(contacts)"
   ]
  },
  {
   "cell_type": "markdown",
   "metadata": {},
   "source": [
    "## Set <br>\n",
    "<p>A Set is an unordered collection data type that is iterable (loop), mutable, and has no duplicate elements.<br>Major advantage is that it is highly optimized in checking if something is in the set, as opposed to checking if something is in a list.</p>"
   ]
  },
  {
   "cell_type": "markdown",
   "metadata": {},
   "source": [
    "##### Declaring"
   ]
  },
  {
   "cell_type": "code",
   "execution_count": null,
   "metadata": {},
   "outputs": [],
   "source": [
    "# set() or {}\n",
    "# no order {3, 2, 1} outputs as {1, 2, 3}\n"
   ]
  },
  {
   "cell_type": "markdown",
   "metadata": {},
   "source": [
    "##### .add()"
   ]
  },
  {
   "cell_type": "code",
   "execution_count": null,
   "metadata": {},
   "outputs": [],
   "source": [
    "# set.add()\n"
   ]
  },
  {
   "cell_type": "markdown",
   "metadata": {},
   "source": [
    "##### .remove()"
   ]
  },
  {
   "cell_type": "code",
   "execution_count": null,
   "metadata": {},
   "outputs": [],
   "source": [
    "# removes by value\n",
    "# set.remove()\n",
    "# nums.remove(56)\n",
    "\n"
   ]
  },
  {
   "cell_type": "markdown",
   "metadata": {},
   "source": [
    "##### .union() "
   ]
  },
  {
   "cell_type": "code",
   "execution_count": null,
   "metadata": {},
   "outputs": [],
   "source": [
    "# Returns a union of two sets, can also use '|' or set.union(set)\n",
    "# joins all numbers, gets rid of duplicates\n"
   ]
  },
  {
   "cell_type": "markdown",
   "metadata": {},
   "source": [
    "##### .intersection()"
   ]
  },
  {
   "cell_type": "code",
   "execution_count": null,
   "metadata": {},
   "outputs": [],
   "source": [
    "# Returns an intersection of two sets, can also use '&'\n",
    "# only takes similar elements from both sets\n",
    "\n"
   ]
  },
  {
   "cell_type": "markdown",
   "metadata": {},
   "source": [
    "##### .difference()"
   ]
  },
  {
   "cell_type": "code",
   "execution_count": null,
   "metadata": {},
   "outputs": [],
   "source": [
    "# Returns a set containing all the elements of invoking set that are not in the second set, can also use '-'\n",
    "# only takes values from the first set that are not in the second set\n",
    "# order matters\n",
    "\n"
   ]
  },
  {
   "cell_type": "markdown",
   "metadata": {},
   "source": [
    "##### .clear()"
   ]
  },
  {
   "cell_type": "code",
   "execution_count": null,
   "metadata": {},
   "outputs": [],
   "source": [
    "# Empties the whole set\n",
    "# set.clear()\n"
   ]
  },
  {
   "cell_type": "markdown",
   "metadata": {},
   "source": [
    "##### Frozenset <br>\n",
    "<p>Frozen sets are immutable objects that only support methods and operators that produce a result without affecting the frozen set or sets to which they are applied.</p><br><b>Unique & Immutable</b>"
   ]
  },
  {
   "cell_type": "code",
   "execution_count": null,
   "metadata": {},
   "outputs": [],
   "source": [
    "# frozenset([])\n"
   ]
  },
  {
   "cell_type": "markdown",
   "metadata": {},
   "source": [
    "## Modules"
   ]
  },
  {
   "cell_type": "markdown",
   "metadata": {},
   "source": [
    "##### Importing Entire Modules"
   ]
  },
  {
   "cell_type": "code",
   "execution_count": null,
   "metadata": {},
   "outputs": [],
   "source": [
    "# import or from 'xxx' import *\n",
    "# import math\n",
    "\n"
   ]
  },
  {
   "cell_type": "markdown",
   "metadata": {},
   "source": [
    "##### Importing Methods Only"
   ]
  },
  {
   "cell_type": "code",
   "execution_count": null,
   "metadata": {},
   "outputs": [],
   "source": [
    "# from 'xxx' import 'xxx'\n",
    "# from math import floor\n",
    "\n",
    "\n"
   ]
  },
  {
   "cell_type": "markdown",
   "metadata": {},
   "source": [
    "##### Using the 'as' Keyword"
   ]
  },
  {
   "cell_type": "code",
   "execution_count": null,
   "metadata": {},
   "outputs": [],
   "source": [
    "# from 'xxx' import 'xxx' as 'xxx' or import 'xxx' as 'xxx'\n",
    "# from math import floor as f\n"
   ]
  },
  {
   "cell_type": "markdown",
   "metadata": {},
   "source": [
    "##### Creating a Module"
   ]
  },
  {
   "cell_type": "code",
   "execution_count": null,
   "metadata": {},
   "outputs": [],
   "source": []
  },
  {
   "cell_type": "markdown",
   "metadata": {},
   "source": [
    "# Exercises"
   ]
  },
  {
   "cell_type": "markdown",
   "metadata": {},
   "source": [
    "### 1) Build a Shopping Cart <br>\n",
    "<p><b>You can use either lists or dictionaries. The program should have the following capabilities:</b><br><br>\n",
    "1) Takes in input <br>\n",
    "2) Stores user input into a dictionary or list <br>\n",
    "3) The User can add or delete items <br>\n",
    "4) The User can see current shopping list <br>\n",
    "5) The program Loops until user 'quits' <br>\n",
    "6) Upon quiting the program, print out all items in the user's list <br>\n",
    "</p>"
   ]
  },
  {
   "cell_type": "code",
   "execution_count": null,
   "metadata": {},
   "outputs": [],
   "source": [
    "dummy = {\n",
    "    \"banana\": 1,\n",
    "    \"cheese\": 2\n",
    "}\n",
    "print(dummy.keys())\n",
    "\n",
    "[f\"{dummy[k]}\" for k, v in dummy.items()]\n"
   ]
  },
  {
   "cell_type": "code",
   "execution_count": null,
   "metadata": {},
   "outputs": [],
   "source": [
    "from IPython.display import clear_output\n",
    "\n",
    "cart = {}\n",
    "\n",
    "def show_cart():\n",
    "    if cart:\n",
    "        print(\"Your Cart:\")\n",
    "        for k, v in cart.items():\n",
    "            print(f\"{k}: {v}\")\n",
    "    else:\n",
    "         print(\"You have nothing in your cart.\")\n",
    "            \n",
    "def add_cart(info_name, quantity):\n",
    "    if info_name in cart.keys():\n",
    "        cart[info_name] += quantity\n",
    "    else:\n",
    "        cart[info_name] = quantity\n",
    "\n",
    "while True:\n",
    "    clear_output()\n",
    "    \n",
    "    initial_ans = input(\"Would you like to Show, Add, Modify or Clear your cart? Quit to exit\")\n",
    "    \n",
    "    # Show Cart Items\n",
    "    if initial_ans.lower() == 'show' or initial_ans.lower() == 's':\n",
    "        show_cart()\n",
    "    \n",
    "    # Add Cart Item\n",
    "    elif initial_ans.lower() == 'add' or initial_ans.lower() == 'a':\n",
    "        print(\"Add Cart Item\")\n",
    "        input_name = input(\"Name of grocery item? \").title()\n",
    "        input_quantity = int(input(f\"Quantity of {input_name}? \"))\n",
    "        if input_name in cart.keys():\n",
    "            input_sure = input(f\"{input_name} is already in cart. Add {input_quantity} instead? Yes or Cancel?\" )\n",
    "            if input_sure.lower() == \"yes\" or input_sure.lower() == \"y\":\n",
    "                add_cart(input_name, input_quantity)\n",
    "                print(f\"{input_name} (Qty of {input_quantity}) added to cart.\")\n",
    "            else:\n",
    "                print(\"Cart Item add canceled.\")\n",
    "        else:\n",
    "            add_cart(input_name, input_quantity)\n",
    "            print(f\"{input_name} (Qty of {input_quantity}) added to cart.\")\n",
    "    \n",
    "    # Modify Cart Item\n",
    "    elif initial_ans.lower() == 'm' or initial_ans.lower() == 'modify':\n",
    "        if cart:\n",
    "            print(\"Modify Cart Item Quantity:\")\n",
    "            show_cart()\n",
    "            input_mod_choice = input(\"Rename item, Change quantity or Delete cart item? \")\n",
    "            if input_mod_choice.lower() == \"rename\" or input_mod_choice.lower() == \"r\":\n",
    "                input_rename_choice = input(\"Which item to rename? \")\n",
    "                rename_formatted = input_rename_choice.title()\n",
    "                if rename_formatted in cart.keys():\n",
    "                    input_rename_new = input(f\"Rename {rename_formatted} to: \")\n",
    "                    cart[input_rename_new] = cart.pop(rename_formatted)\n",
    "                    print(f\"Renamed '{rename_formatted}' to '{input_rename_new}'\")\n",
    "                else:\n",
    "                    print(\"Name not found in cart items. Cart Item modify canceled.\")\n",
    "            elif input_mod_choice.lower() == \"change\" or input_mod_choice.lower() == \"c\":\n",
    "                input_item_choice = input(\"Which item to change quantity? \")\n",
    "                item_formatted = input_item_choice.title()\n",
    "                if item_formatted in cart.keys():\n",
    "                    input_new_qty = int(input(f\"Change {item_formatted} quantity {cart[item_formatted]} to: \"))\n",
    "                    cart[item_formatted] = input_new_qty\n",
    "                    print(f\"Changed '{item_formatted}' quantity to '{input_new_qty}'\")\n",
    "                else:\n",
    "                    print(\"Name not found in cart items. Cart Item modify canceled.\")\n",
    "            elif input_mod_choice.lower() == \"delete\" or input_mod_choice.lower() == \"d\":\n",
    "                input_delete_choice = input(\"Which item delete from cart? \")\n",
    "                delete_formatted = input_delete_choice.title()\n",
    "                if delete_formatted in cart.keys():\n",
    "                    input_sure = input(f\"Are you sure you want to delete {delete_formatted}? \")\n",
    "                    if input_sure.lower() == \"yes\" or input_sure.lower() == \"y\":\n",
    "                        qty = cart.pop(delete_formatted)\n",
    "                        print(f\"{delete_formatted} is deleted.\")\n",
    "                    else:\n",
    "                        print(f\"{delete_formatted} is not deleted.\")\n",
    "                else:\n",
    "                    print(\"Name not found in cart items. Cart Item delete canceled.\")\n",
    "            else:\n",
    "                print(\"Not a valid response.\")\n",
    "                continue\n",
    "        else:\n",
    "            print(\"Nothing to Modify. You have nothing in your cart.\")\n",
    "            \n",
    "    # Clear Cart\n",
    "    elif initial_ans.lower() == 'c' or initial_ans.lower() == 'clear':\n",
    "        if cart:\n",
    "            input_clear = input(\"Are you sure you want to delete all items? \")\n",
    "            if input_clear.lower() == \"yes\" or input_clear.lower() == \"y\":\n",
    "                cart = {}\n",
    "                print(\"Cart is now empty.\")\n",
    "            else:\n",
    "                print(\"Clear cart is cancelled. All items are still in cart.\")\n",
    "                show_cart()\n",
    "    \n",
    "    # Quit\n",
    "    elif initial_ans.lower() == 'q' or initial_ans.lower() == 'quit':     \n",
    "        if cart:\n",
    "            show_cart()\n",
    "        break\n",
    "        \n",
    "    # Continue with while: if initial_ans is not a valid response.\n",
    "    else:\n",
    "        print(\"Not a valid response\")\n",
    "        continue"
   ]
  },
  {
   "cell_type": "markdown",
   "metadata": {},
   "source": [
    "### 2) Create a Module in VS Code and Import It into jupyter notebook <br>\n",
    "<p><b>Module should have the following capabilities:</b><br><br>\n",
    "1) Has a function to calculate the square footage of a house <br>\n",
    "    <b>Reminder of Formula: Length X Width == Area<br>\n",
    "        <hr>\n",
    "2) Has a function to calculate the circumference of a circle <br><br>\n",
    "<b>Program in Jupyter Notebook should take in user input and use imported functions to calculate a circle's circumference or a houses square footage</b>\n",
    "</p>"
   ]
  },
  {
   "cell_type": "code",
   "execution_count": null,
   "metadata": {},
   "outputs": [],
   "source": []
  }
 ],
 "metadata": {
  "kernelspec": {
   "display_name": "Python 3 (ipykernel)",
   "language": "python",
   "name": "python3"
  },
  "language_info": {
   "codemirror_mode": {
    "name": "ipython",
    "version": 3
   },
   "file_extension": ".py",
   "mimetype": "text/x-python",
   "name": "python",
   "nbconvert_exporter": "python",
   "pygments_lexer": "ipython3",
   "version": "3.9.13"
  }
 },
 "nbformat": 4,
 "nbformat_minor": 2
}
